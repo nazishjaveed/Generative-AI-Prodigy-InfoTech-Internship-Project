{
  "nbformat": 4,
  "nbformat_minor": 0,
  "metadata": {
    "colab": {
      "provenance": [],
      "gpuType": "T4"
    },
    "kernelspec": {
      "name": "python3",
      "display_name": "Python 3"
    },
    "language_info": {
      "name": "python"
    },
    "accelerator": "GPU"
  },
  "cells": [
    {
      "cell_type": "markdown",
      "source": [
        "# Method Of The Text Generation With Markov Chain:"
      ],
      "metadata": {
        "id": "OrKzl7ZH43Kh"
      }
    },
    {
      "cell_type": "markdown",
      "source": [
        "**Step-by-Step Guide**:\n",
        "\n",
        "1-**Data Preparation:**\n",
        "\n",
        "*   Collect a text dataset for training the Markov chain model.\n",
        "*   Clean and preprocess the text data.\n",
        "\n",
        "\n",
        "2-**Building the Markov Chain:**\n",
        "\n",
        "*   Create a dictionary to store the transition probabilities between words.\n",
        "\n",
        "*   Populate the dictionary based on the training data.\n",
        "\n",
        "\n",
        "3-**Text Generation:**\n",
        "\n",
        "Use the Markov chain to generate new text based on the transition\n",
        "\n",
        "*   Use the Markov chain to generate new text based on the transition\n",
        "\n",
        "\n",
        "\n",
        "**Step 1: Data Preparation**\n",
        "\n",
        "First, you need a text dataset. For this example, we'll use a simple text string. You can replace this with any text dataset of your choice."
      ],
      "metadata": {
        "id": "Sv_dT43B2QSn"
      }
    },
    {
      "cell_type": "code",
      "source": [
        "text = \"\"\"Once upon a time, in a land far, far away, there was a kingdom where everyone lived happily ever after. The end.\"\"\"\n"
      ],
      "metadata": {
        "id": "RUWNkIeB1Atu"
      },
      "execution_count": null,
      "outputs": []
    },
    {
      "cell_type": "markdown",
      "source": [
        "**Step 2: Building the Markov Chain**\n",
        "We'll build a dictionary where each key is a word, and the corresponding value is a list of words that can follow the key word, along with their probabilities."
      ],
      "metadata": {
        "id": "fGdjSOa_5N1g"
      }
    },
    {
      "cell_type": "code",
      "execution_count": null,
      "metadata": {
        "colab": {
          "base_uri": "https://localhost:8080/"
        },
        "id": "XEtUycDwzxRj",
        "outputId": "ff27de15-e2b2-48c1-e736-334c6e2aecb6"
      },
      "outputs": [
        {
          "output_type": "stream",
          "name": "stdout",
          "text": [
            "Markov Chain Model:\n",
            "defaultdict(<class 'list'>, {'Once': {'upon': 1.0}, 'upon': {'a': 1.0}, 'a': {'time,': 0.3333333333333333, 'land': 0.3333333333333333, 'kingdom': 0.3333333333333333}, 'time,': {'in': 1.0}, 'in': {'a': 1.0}, 'land': {'far,': 1.0}, 'far,': {'far': 1.0}, 'far': {'away,': 1.0}, 'away,': {'there': 1.0}, 'there': {'was': 1.0}, 'was': {'a': 1.0}, 'kingdom': {'where': 1.0}, 'where': {'everyone': 1.0}, 'everyone': {'lived': 1.0}, 'lived': {'happily': 1.0}, 'happily': {'ever': 1.0}, 'ever': {'after.': 1.0}, 'after.': {'The': 1.0}, 'The': {'end.': 1.0}})\n"
          ]
        }
      ],
      "source": [
        "import random\n",
        "from collections import defaultdict\n",
        "\n",
        "# Preprocess the text\n",
        "words = text.split()\n",
        "\n",
        "# Build the Markov chain\n",
        "markov_chain = defaultdict(list)\n",
        "\n",
        "for current_word, next_word in zip(words[:-1], words[1:]):\n",
        "    markov_chain[current_word].append(next_word)\n",
        "\n",
        "# Convert lists to dictionaries with probabilities\n",
        "for current_word, next_words in markov_chain.items():\n",
        "    word_counts = defaultdict(int)\n",
        "    for next_word in next_words:\n",
        "        word_counts[next_word] += 1\n",
        "    total_count = sum(word_counts.values())\n",
        "    markov_chain[current_word] = {word: count / total_count for word, count in word_counts.items()}\n",
        "\n",
        "print(\"Markov Chain Model:\")\n",
        "print(markov_chain)\n"
      ]
    },
    {
      "cell_type": "markdown",
      "source": [
        "**Step 3: Text Generation**\n",
        "Using the Markov chain, generate new text by selecting words based on the transition probabilities."
      ],
      "metadata": {
        "id": "wxsLyItq5VhX"
      }
    },
    {
      "cell_type": "code",
      "source": [
        "def generate_text(chain, start_word, num_words=50):\n",
        "    current_word = start_word\n",
        "    text_generated = [current_word]\n",
        "\n",
        "    for _ in range(num_words - 1):\n",
        "        if current_word not in chain:\n",
        "            break\n",
        "        next_words = chain[current_word]\n",
        "        next_word = random.choices(list(next_words.keys()), weights=next_words.values())[0]\n",
        "        text_generated.append(next_word)\n",
        "        current_word = next_word\n",
        "\n",
        "    return ' '.join(text_generated)\n",
        "\n",
        "start_word = \"Once\"\n",
        "generated_text = generate_text(markov_chain, start_word, num_words=20)\n",
        "\n",
        "print(\"\\nGenerated Text:\")\n",
        "print(generated_text)\n"
      ],
      "metadata": {
        "colab": {
          "base_uri": "https://localhost:8080/"
        },
        "id": "wi0JMXj_1LVj",
        "outputId": "6fecf807-2891-4951-cbc7-9f8f4c110d49"
      },
      "execution_count": null,
      "outputs": [
        {
          "output_type": "stream",
          "name": "stdout",
          "text": [
            "\n",
            "Generated Text:\n",
            "Once upon a kingdom where everyone lived happily ever after. The end.\n"
          ]
        }
      ]
    },
    {
      "cell_type": "markdown",
      "source": [
        "**Putting It All Together**\n",
        "Here is the complete script:"
      ],
      "metadata": {
        "id": "22RhsK8u5kpY"
      }
    },
    {
      "cell_type": "code",
      "source": [
        "import random\n",
        "from collections import defaultdict\n",
        "\n",
        "# Step 1: Data Preparation\n",
        "text = \"\"\"Once upon a time, in a land far, far away, there was a kingdom where everyone lived happily ever after. The end.\"\"\"\n",
        "words = text.split()\n",
        "\n",
        "# Step 2: Building the Markov Chain\n",
        "markov_chain = defaultdict(list)\n",
        "\n",
        "for current_word, next_word in zip(words[:-1], words[1:]):\n",
        "    markov_chain[current_word].append(next_word)\n",
        "\n",
        "# Convert lists to dictionaries with probabilities\n",
        "for current_word, next_words in markov_chain.items():\n",
        "    word_counts = defaultdict(int)\n",
        "    for next_word in next_words:\n",
        "        word_counts[next_word] += 1\n",
        "    total_count = sum(word_counts.values())\n",
        "    markov_chain[current_word] = {word: count / total_count for word, count in word_counts.items()}\n",
        "\n",
        "# Step 3: Text Generation\n",
        "def generate_text(chain, start_word, num_words=50):\n",
        "    current_word = start_word\n",
        "    text_generated = [current_word]\n",
        "\n",
        "    for _ in range(num_words - 1):\n",
        "        if current_word not in chain:\n",
        "            break\n",
        "        next_words = chain[current_word]\n",
        "        next_word = random.choices(list(next_words.keys()), weights=next_words.values())[0]\n",
        "        text_generated.append(next_word)\n",
        "        current_word = next_word\n",
        "\n",
        "    return ' '.join(text_generated)\n",
        "\n",
        "start_word = \"Once\"\n",
        "generated_text = generate_text(markov_chain, start_word, num_words=20)\n",
        "\n",
        "print(\"\\nGenerated Text:\")\n",
        "print(generated_text)\n"
      ],
      "metadata": {
        "colab": {
          "base_uri": "https://localhost:8080/"
        },
        "id": "hxv7sOLV1gPP",
        "outputId": "c7f65cc8-fac6-48d7-f603-5c6080b3f072"
      },
      "execution_count": null,
      "outputs": [
        {
          "output_type": "stream",
          "name": "stdout",
          "text": [
            "\n",
            "Generated Text:\n",
            "Once upon a time, in a kingdom where everyone lived happily ever after. The end.\n"
          ]
        }
      ]
    }
  ]
}